{
 "cells": [
  {
   "cell_type": "code",
   "execution_count": 1,
   "id": "3533b8cc",
   "metadata": {},
   "outputs": [],
   "source": [
    "import mysql.connector as connector"
   ]
  },
  {
   "cell_type": "code",
   "execution_count": 8,
   "id": "dee3a373",
   "metadata": {},
   "outputs": [],
   "source": [
    "connection = connector.connect(user = \"capstone\", password = \"password\",db='littlelemondb')\n",
    "cursor = connection.cursor()"
   ]
  },
  {
   "cell_type": "code",
   "execution_count": 9,
   "id": "f9882a69",
   "metadata": {},
   "outputs": [],
   "source": [
    "show_tables_query = \"SHOW tables\" \n",
    "cursor.execute(show_tables_query)"
   ]
  },
  {
   "cell_type": "code",
   "execution_count": 10,
   "id": "80d8cf13",
   "metadata": {},
   "outputs": [
    {
     "name": "stdout",
     "output_type": "stream",
     "text": [
      "[('OrdersView',), ('bookings',), ('customers',), ('menuItems',), ('menus',), ('orderStatus',), ('orders',), ('staff',)]\n"
     ]
    }
   ],
   "source": [
    "results = cursor.fetchall()\n",
    "print(results)"
   ]
  },
  {
   "cell_type": "code",
   "execution_count": 11,
   "id": "1c20ddf0",
   "metadata": {},
   "outputs": [],
   "source": [
    "query=\"\"\"SELECT c.fullName, c.phoneNumber\n",
    "FROM customers as c\n",
    "INNER JOIN orders AS o\n",
    "ON o.customerID = c.customerID\n",
    "WHERE o.totalCost > 60.00\n",
    "\"\"\""
   ]
  },
  {
   "cell_type": "code",
   "execution_count": 12,
   "id": "de6689ed",
   "metadata": {},
   "outputs": [
    {
     "name": "stdout",
     "output_type": "stream",
     "text": [
      "[('Sophia Loren', 39238564), ('John Doe', 203451292)]\n"
     ]
    }
   ],
   "source": [
    "cursor.execute(query)\n",
    "results = cursor.fetchall()\n",
    "print(results)"
   ]
  },
  {
   "cell_type": "code",
   "execution_count": null,
   "id": "bc7ca1ba",
   "metadata": {},
   "outputs": [],
   "source": []
  }
 ],
 "metadata": {
  "kernelspec": {
   "display_name": "Python 3 (ipykernel)",
   "language": "python",
   "name": "python3"
  },
  "language_info": {
   "codemirror_mode": {
    "name": "ipython",
    "version": 3
   },
   "file_extension": ".py",
   "mimetype": "text/x-python",
   "name": "python",
   "nbconvert_exporter": "python",
   "pygments_lexer": "ipython3",
   "version": "3.11.5"
  }
 },
 "nbformat": 4,
 "nbformat_minor": 5
}
